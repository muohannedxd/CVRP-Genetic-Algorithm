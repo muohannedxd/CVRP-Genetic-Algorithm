{
 "cells": [
  {
   "cell_type": "code",
   "execution_count": null,
   "id": "f07b26ba-cc88-4b68-97aa-8f566c4824c2",
   "metadata": {},
   "outputs": [],
   "source": [
    "import numpy as np\n",
    "import pandas as pd\n",
    "import networkx as nx\n",
    "import matplotlib.pyplot as plt\n",
    "import random"
   ]
  },
  {
   "cell_type": "markdown",
   "id": "45a292f3-bf08-4286-9b60-a2b9f95eee9f",
   "metadata": {},
   "source": [
    "## **1. Data Definition**"
   ]
  },
  {
   "cell_type": "markdown",
   "id": "010f76dc-c933-4e5b-a01c-2ba53109f9e8",
   "metadata": {},
   "source": [
    "### Customers Data"
   ]
  },
  {
   "cell_type": "code",
   "execution_count": null,
   "id": "bab450aa-7194-4651-919e-41703b8a115a",
   "metadata": {},
   "outputs": [],
   "source": [
    "num_customers = 11\n",
    "customer_demands = [0, 5, 20, 10, 20, 85, 65, 30, 20, 70, 30]"
   ]
  },
  {
   "cell_type": "markdown",
   "id": "03033f74-190d-480b-bde1-e02304a2b526",
   "metadata": {},
   "source": [
    "### Vehicles Data"
   ]
  },
  {
   "cell_type": "code",
   "execution_count": null,
   "id": "236015da-d99f-4fb4-a0c5-32f1e765187e",
   "metadata": {},
   "outputs": [],
   "source": [
    "# vehicles\n",
    "num_vehicles = 6\n",
    "vehicle_capacity = 100"
   ]
  },
  {
   "cell_type": "markdown",
   "id": "566a7800-cf9a-4f27-be6e-87d16933551d",
   "metadata": {},
   "source": [
    "### Routes Costs"
   ]
  },
  {
   "cell_type": "code",
   "execution_count": null,
   "id": "480399e8-ac1c-4868-bb16-75f917122ffb",
   "metadata": {},
   "outputs": [],
   "source": [
    "# Routes costs\n",
    "distance_matrix = [\n",
    "    [0, 13, 6, 55, 93, 164, 166, 168, 169, 241, 212],\n",
    "    [13, 0, 11, 66, 261, 175, 177, 179, 180, 239, 208],\n",
    "    [6, 11, 0, 60, 97, 168, 171, 173, 174, 239, 209],\n",
    "    [55, 66, 60, 0, 82, 113, 115, 117, 117, 295, 265],\n",
    "    [93, 261, 97, 82, 0, 113, 115, 117, 118, 333, 302],\n",
    "    [164, 175, 168, 113, 113, 0, 6, 7, 2, 403, 374],\n",
    "    [166, 177, 171, 115, 115, 6, 0, 8, 7, 406, 376],\n",
    "    [168, 179, 173, 117, 117, 4, 8, 0, 3, 408, 378 ],\n",
    "    [169, 180, 174, 117, 118, 3, 7, 3, 0, 409, 379],\n",
    "    [241, 239, 239, 295, 333, 403, 406, 408, 409, 0, 46],\n",
    "    [212, 208, 209, 265, 302, 374, 376, 378, 379, 46, 0]\n",
    "]\n",
    "\n",
    "distances = pd.DataFrame(distance_matrix, index=range(1, 12), columns=range(1, 12))\n",
    "distances"
   ]
  },
  {
   "cell_type": "markdown",
   "id": "a0c791bd-b3bf-4223-a2ba-526e861220d3",
   "metadata": {},
   "source": [
    "## **2. Graph**"
   ]
  },
  {
   "cell_type": "code",
   "execution_count": null,
   "id": "7fdb4525-6f69-4177-9f0f-da88e6722d91",
   "metadata": {},
   "outputs": [],
   "source": [
    "# initialize the graph\n",
    "G = nx.Graph()\n",
    "\n",
    "# add nodes\n",
    "for i in range(1, 12):\n",
    "    G.add_node(i)\n",
    "\n",
    "# add edges\n",
    "for i in range(1, 12):\n",
    "    for j in range(i + 1, 12):\n",
    "        if distance_matrix[i-1][j-1] != 0:\n",
    "            G.add_edge(i, j, weight=distance_matrix[i-1][j-1])\n",
    "\n",
    "# draw the graph\n",
    "pos = nx.spring_layout(G)\n",
    "nx.draw(G, pos, with_labels=True, node_size=500, node_color='skyblue', font_size=10, font_weight='bold')\n",
    "labels = nx.get_edge_attributes(G, 'weight')\n",
    "nx.draw_networkx_edge_labels(G, pos, edge_labels=labels, font_size=6)\n",
    "plt.title('Customer Graph with Distances')\n",
    "plt.show()"
   ]
  },
  {
   "cell_type": "markdown",
   "id": "5024de02-3694-4612-9e3c-6c114d725ba1",
   "metadata": {},
   "source": [
    "## **3. Genetic Algorithm**"
   ]
  },
  {
   "cell_type": "code",
   "execution_count": null,
   "id": "cc3722c1-0cd7-4d6d-9da0-9f0e02a8a822",
   "metadata": {},
   "outputs": [],
   "source": [
    "# Genetic Algotrithm class\n",
    "class GeneticAlgorithm:\n",
    "    def __init__(self, num_customers, vehicle_capacity, distance_matrix, customer_demands):\n",
    "        self.num_customers = num_customers\n",
    "        self.vehicle_capacity = vehicle_capacity\n",
    "        self.distance_matrix = distance_matrix\n",
    "        self.customer_demands = customer_demands\n",
    "\n",
    "    def initialize_population(self):\n",
    "        population = []\n",
    "        remaining_customers = list(range(1, self.num_customers + 1))  # List of remaining customers\n",
    "        random.shuffle(remaining_customers)  # Shuffle the customer list to randomize assignment\n",
    "        while remaining_customers:\n",
    "            route = [0]  # Initialize route with depot\n",
    "            load = 0\n",
    "            while remaining_customers:\n",
    "                next_customer = remaining_customers[-1]\n",
    "                if load + self.customer_demands[next_customer - 1] <= self.vehicle_capacity:\n",
    "                    route.append(next_customer)\n",
    "                    load += self.customer_demands[next_customer - 1]\n",
    "                    remaining_customers.pop()\n",
    "                else:\n",
    "                    break\n",
    "            route.append(0)  # Add depot at the end\n",
    "            population.append(route)\n",
    "        return population\n",
    "\n",
    "    def evaluate_route(self, route):\n",
    "        cost = 0\n",
    "        load = 0\n",
    "        for i in range(len(route) - 1):\n",
    "            from_node, to_node = route[i], route[i+1]\n",
    "            if to_node == 0 or to_node > self.num_customers:\n",
    "                continue\n",
    "            cost += self.distance_matrix[from_node - 1][to_node - 1]  # Adjust indexing\n",
    "            load += self.customer_demands[to_node - 1]  # Adjust indexing\n",
    "            if load > self.vehicle_capacity:\n",
    "                cost += 1000\n",
    "                load = 0\n",
    "        return cost\n",
    "\n",
    "    def mutate_route(self, route):\n",
    "        mutated_route = route[:]\n",
    "        idx_range = range(1, len(mutated_route) - 1)\n",
    "        if len(idx_range) < 2:\n",
    "            return mutated_route  # No mutation possible\n",
    "        idx1, idx2 = random.sample(idx_range, 2)  # Exclude depot indices\n",
    "        \n",
    "        # Ensure that idx2 is greater than idx1\n",
    "        if idx1 > idx2:\n",
    "            idx1, idx2 = idx2, idx1\n",
    "        \n",
    "        # Reverse the sub-route between idx1 and idx2\n",
    "        mutated_route = route[:idx1] + list(reversed(route[idx1:idx2+1])) + route[idx2+1:]\n",
    "        \n",
    "        # Check capacity constraint\n",
    "        current_demand = sum(self.customer_demands[customer - 1] for customer in mutated_route[1:-1])\n",
    "        if current_demand > self.vehicle_capacity:\n",
    "            return route  # Revert mutation\n",
    "        return mutated_route\n",
    "\n",
    "    def genetic_algorithm(self, population, generations):\n",
    "        for gen in range(generations):\n",
    "            new_population = []\n",
    "            for routes in population:\n",
    "                new_routes = []\n",
    "                for route in routes:\n",
    "                    new_route = self.mutate_route(route)\n",
    "                    new_routes.append(new_route)\n",
    "                new_population.append(new_routes)\n",
    "            \n",
    "            population = new_population\n",
    "\n",
    "            # Evaluate population\n",
    "            all_routes = [route for routes in population for route in routes]\n",
    "            all_costs = [self.evaluate_route(route) for route in all_routes]\n",
    "\n",
    "            # Find the best route for each vehicle\n",
    "            best_routes = []\n",
    "            best_costs = []\n",
    "            for i in range(num_vehicles):\n",
    "                routes_for_vehicle = all_routes[i::num_vehicles]\n",
    "                costs_for_vehicle = all_costs[i::num_vehicles]\n",
    "                if costs_for_vehicle:\n",
    "                    best_route_idx = np.argmin(costs_for_vehicle)\n",
    "                    best_routes.append(routes_for_vehicle[best_route_idx])\n",
    "                    best_costs.append(costs_for_vehicle[best_route_idx])\n",
    "                else:\n",
    "                    best_routes.append([])\n",
    "                    best_costs.append(0)\n",
    "\n",
    "        return best_routes, best_costs\n",
    "        "
   ]
  },
  {
   "cell_type": "markdown",
   "id": "b241f124-77e2-439c-889c-dd448d1ebc01",
   "metadata": {},
   "source": [
    "## **4. Genetic Algorithm Execution**"
   ]
  },
  {
   "cell_type": "code",
   "execution_count": null,
   "id": "190f184e-2c08-45db-b28d-f9f840982805",
   "metadata": {},
   "outputs": [],
   "source": [
    "# main\n",
    "if __name__ == \"__main__\":\n",
    "    \n",
    "    # an instance of the genetic algorithm class\n",
    "    ga = GeneticAlgorithm(num_customers, vehicle_capacity, distance_matrix, customer_demands)\n",
    "    \n",
    "    # initialize population\n",
    "    population = ga.initialize_population()\n",
    "    best_routes, best_costs = ga.genetic_algorithm([population], generations=100)\n",
    "\n",
    "    # print best routes\n",
    "    for i in range(len(best_routes)):\n",
    "        print(f\"Vehicle {i+1}: Best Cost = {best_costs[i]}, Best Route = {best_routes[i]}\")\n",
    "\n",
    "    # print total cost\n",
    "    print(f'Total Cost is: {sum(best_costs)}')"
   ]
  },
  {
   "cell_type": "markdown",
   "id": "258988f4-1360-4568-bf21-af7a016d868b",
   "metadata": {},
   "source": [
    "## **5. Optimal Routes Visualization**"
   ]
  },
  {
   "cell_type": "code",
   "execution_count": null,
   "id": "318f5f26-a5ea-4475-897d-97b4dc98192e",
   "metadata": {},
   "outputs": [],
   "source": [
    "import matplotlib.pyplot as plt\n",
    "\n",
    "def visualize_routes(best_routes, distance_matrix):\n",
    "    # Plotting the nodes\n",
    "    plt.figure(figsize=(10, 6))\n",
    "    for i in range(len(distance_matrix)):\n",
    "        plt.plot(distance_matrix[i][0], distance_matrix[i][1], 'o', markersize=10, label=f'Customer {i+1}')\n",
    "\n",
    "    # Plotting the routes\n",
    "    for i, route in enumerate(best_routes):\n",
    "        if route:\n",
    "            route_x = [distance_matrix[node - 1][0] for node in route]  # Adjust indexing\n",
    "            route_y = [distance_matrix[node - 1][1] for node in route]  # Adjust indexing\n",
    "            plt.plot(route_x, route_y, linestyle='-', linewidth=2, label=f'Vehicle {i+1} Route')\n",
    "        else:\n",
    "            pass\n",
    "\n",
    "    plt.xlabel('X Coordinate')\n",
    "    plt.ylabel('Y Coordinate')\n",
    "    plt.title('Visualization of Best Routes')\n",
    "    plt.legend()\n",
    "    plt.grid(True)\n",
    "    plt.show()\n",
    "\n",
    "# Assuming distance_matrix is a list of (x, y) coordinates for each node\n",
    "# For example: distance_matrix = [(x1, y1), (x2, y2), ...]\n",
    "visualize_routes(best_routes, distance_matrix)\n"
   ]
  },
  {
   "cell_type": "markdown",
   "id": "3c899783-a53f-4284-8802-57f1a64a2db8",
   "metadata": {},
   "source": [
    "## **6. Results Analysis**"
   ]
  },
  {
   "cell_type": "markdown",
   "id": "bf9303b6-934e-4fcc-ac68-23ca34474bac",
   "metadata": {},
   "source": [
    "The solution of this $NP-Hard$ problem with $Genetic Algorithms$ is not necessarily the optimal one.\n",
    "elaborate..."
   ]
  },
  {
   "cell_type": "code",
   "execution_count": null,
   "id": "fa18bd75-7a08-4d22-b6c2-19678b087c93",
   "metadata": {},
   "outputs": [],
   "source": []
  }
 ],
 "metadata": {
  "kernelspec": {
   "display_name": "muo env",
   "language": "python",
   "name": "muo_env"
  },
  "language_info": {
   "codemirror_mode": {
    "name": "ipython",
    "version": 3
   },
   "file_extension": ".py",
   "mimetype": "text/x-python",
   "name": "python",
   "nbconvert_exporter": "python",
   "pygments_lexer": "ipython3",
   "version": "3.11.7"
  }
 },
 "nbformat": 4,
 "nbformat_minor": 5
}
