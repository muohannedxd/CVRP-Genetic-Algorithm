{
 "cells": [
  {
   "cell_type": "code",
   "execution_count": null,
   "id": "f07b26ba-cc88-4b68-97aa-8f566c4824c2",
   "metadata": {},
   "outputs": [],
   "source": [
    "import numpy as np\n",
    "import pandas as pd"
   ]
  },
  {
   "cell_type": "markdown",
   "id": "45a292f3-bf08-4286-9b60-a2b9f95eee9f",
   "metadata": {},
   "source": [
    "## **1. Data Definition**"
   ]
  },
  {
   "cell_type": "markdown",
   "id": "010f76dc-c933-4e5b-a01c-2ba53109f9e8",
   "metadata": {},
   "source": [
    "### Customers Data"
   ]
  },
  {
   "cell_type": "code",
   "execution_count": null,
   "id": "bab450aa-7194-4651-919e-41703b8a115a",
   "metadata": {},
   "outputs": [],
   "source": [
    "demands = [0, 5, 20, 10, 20, 85, 65, 30, 20, 70, 30]\n",
    "customer_data = pd.DataFrame({'customer': range(1, 12), 'd': demands})\n",
    "customer_data"
   ]
  },
  {
   "cell_type": "markdown",
   "id": "03033f74-190d-480b-bde1-e02304a2b526",
   "metadata": {},
   "source": [
    "### Vehicles Data"
   ]
  },
  {
   "cell_type": "code",
   "execution_count": null,
   "id": "236015da-d99f-4fb4-a0c5-32f1e765187e",
   "metadata": {},
   "outputs": [],
   "source": [
    "num_vehicles = 6\n",
    "vehicle_capacity = 100"
   ]
  },
  {
   "cell_type": "markdown",
   "id": "566a7800-cf9a-4f27-be6e-87d16933551d",
   "metadata": {},
   "source": [
    "### Routes Costs"
   ]
  },
  {
   "cell_type": "code",
   "execution_count": null,
   "id": "480399e8-ac1c-4868-bb16-75f917122ffb",
   "metadata": {},
   "outputs": [],
   "source": [
    "distance_matrix = np.array([\n",
    "    [0, 13, 6, 55, 93, 164, 166, 168, 169, 231, 212],\n",
    "    [13, 0, 11, 66, 261, 175, 177, 179, 180, 239, 208],\n",
    "    [6, 11, 0, 60, 97, 168, 171, 173, 174, 239, 209],\n",
    "    [55, 66, 60, 0, 82, 113, 115, 117, 117, 295, 265],\n",
    "    [93, 261, 97, 82, 0, 113, 115, 117, 118, 333, 302],\n",
    "    [164, 175, 168, 113, 113, 0, 6, 7, 2, 403, 374],\n",
    "    [166, 177, 171, 115, 115, 6, 0, 8, 7, 406, 376],\n",
    "    [168, 179, 173, 117, 117, 7, 8, 0, 3, 408, 378],\n",
    "    [169, 180, 174, 117, 118, 2, 7, 3, 0, 409, 379],\n",
    "    [231, 239, 239, 295, 333, 403, 406, 408, 409, 0, 46],\n",
    "    [212, 208, 209, 265, 302, 374, 376, 378, 379, 46, 0]\n",
    "])\n",
    "\n",
    "distances = pd.DataFrame(distance_matrix, index=range(1, 12), columns=range(1, 12))\n",
    "distances"
   ]
  },
  {
   "cell_type": "markdown",
   "id": "a0c791bd-b3bf-4223-a2ba-526e861220d3",
   "metadata": {},
   "source": [
    "## **2. Graph**"
   ]
  },
  {
   "cell_type": "code",
   "execution_count": null,
   "id": "7fdb4525-6f69-4177-9f0f-da88e6722d91",
   "metadata": {},
   "outputs": [],
   "source": [
    "import networkx as nx\n",
    "import matplotlib.pyplot as plt\n",
    "\n",
    "G = nx.Graph()\n",
    "\n",
    "# Add nodes (customers) to the graph\n",
    "for i in range(1, 12):\n",
    "    G.add_node(i)\n",
    "\n",
    "# G.add_node(0)\n",
    "# G.add_node(12)\n",
    "\n",
    "# Add edges (connections between customers) to the graph\n",
    "for i in range(1, 12):\n",
    "    for j in range(i + 1, 12):\n",
    "        if distance_matrix[i - 1, j - 1] != 0:\n",
    "            G.add_edge(i, j, weight=distance_matrix[i - 1, j - 1])\n",
    "\n",
    "# Draw the graph\n",
    "pos = nx.spring_layout(G)  # Define node positions\n",
    "nx.draw(G, pos, with_labels=True, node_size=500, node_color='skyblue', font_size=10, font_weight='bold')  # Draw nodes\n",
    "labels = nx.get_edge_attributes(G, 'weight')\n",
    "nx.draw_networkx_edge_labels(G, pos, edge_labels=labels, font_size=5)  # Draw edge labels\n",
    "plt.title('Customer Graph with Distances')\n",
    "plt.show()"
   ]
  },
  {
   "cell_type": "markdown",
   "id": "5024de02-3694-4612-9e3c-6c114d725ba1",
   "metadata": {},
   "source": [
    "## **3. Genetic Algorithm**"
   ]
  },
  {
   "cell_type": "code",
   "execution_count": null,
   "id": "cc3722c1-0cd7-4d6d-9da0-9f0e02a8a822",
   "metadata": {},
   "outputs": [],
   "source": [
    "class GeneticAlgorithm:\n",
    "    def __init__(self, num_customers, num_vehicles, capacity, distance_matrix, demands, population_size=100, num_generations=100, crossover_rate=0.8, mutation_rate=0.1):\n",
    "        self.num_customers = num_customers\n",
    "        self.num_vehicles = num_vehicles\n",
    "        self.capacity = capacity\n",
    "        self.distance_matrix = distance_matrix\n",
    "        self.demands = demands\n",
    "        self.population_size = population_size\n",
    "        self.num_generations = num_generations\n",
    "        self.crossover_rate = crossover_rate\n",
    "        self.mutation_rate = mutation_rate\n",
    "        self.population = []\n",
    "\n",
    "    def initialize_population(self):\n",
    "        for _ in range(self.population_size):\n",
    "            individual = []\n",
    "            for _ in range(self.num_vehicles):\n",
    "                route = np.random.permutation(range(1, self.num_customers + 1))\n",
    "                individual.append(route)\n",
    "            self.population.append(individual)\n",
    "\n",
    "    def evaluate_route(self, route):\n",
    "        total_distance = 0\n",
    "        demand = 0\n",
    "        current_node = 0  # Start from depot\n",
    "        for customer in route:\n",
    "            next_node = customer\n",
    "            total_distance += self.distance_matrix[current_node - 1, next_node - 1]  # Indexing starts from 0\n",
    "            demand += self.demands[next_node - 1]  # Indexing starts from 0\n",
    "            if demand > self.capacity:\n",
    "                return float('inf')  # Penalize routes exceeding capacity\n",
    "            current_node = next_node\n",
    "        total_distance += self.distance_matrix[current_node - 1, 0]  # Return to depot\n",
    "        return total_distance\n",
    "\n",
    "    def evaluate_individual(self, individual):\n",
    "        total_distance = 0\n",
    "        for route in individual:\n",
    "            total_distance += self.evaluate_route(route)\n",
    "        return total_distance\n",
    "\n",
    "    def select_parents(self):\n",
    "        # Tournament selection\n",
    "        parents = []\n",
    "        for _ in range(self.population_size):\n",
    "            tournament_indices = np.random.choice(self.population_size, size=2, replace=False)\n",
    "            parent1 = min(tournament_indices, key=lambda x: self.evaluate_individual(self.population[x]))\n",
    "            tournament_indices = np.delete(tournament_indices, np.where(tournament_indices == parent1))\n",
    "            parent2 = min(tournament_indices, key=lambda x: self.evaluate_individual(self.population[x]))\n",
    "            parents.append((parent1, parent2))\n",
    "        return parents\n",
    "\n",
    "    def crossover(self, parent1, parent2):\n",
    "        # Convert parent1 and parent2 to lists\n",
    "        parent1 = list(parent1)\n",
    "        parent2 = list(parent2)\n",
    "        \n",
    "        # Ordered crossover\n",
    "        crossover_point = np.random.randint(1, self.num_customers)  # Choose crossover point\n",
    "        \n",
    "        # Convert the selected genes to tuples for faster membership testing\n",
    "        set_parent1 = tuple(parent1[:crossover_point])\n",
    "        set_parent2 = tuple(parent2[:crossover_point])\n",
    "        \n",
    "        # Create child1 and child2\n",
    "        child1 = parent1[:crossover_point] + [gene for gene in parent2 if gene.tolist() not in [tuple(route) for route in set_parent1]]\n",
    "        child2 = parent2[:crossover_point] + [gene for gene in parent1 if gene.tolist() not in [tuple(route) for route in set_parent2]]\n",
    "\n",
    "        return child1, child2\n",
    "\n",
    "    def mutate(self, individual):\n",
    "        # Swap mutation\n",
    "        if np.random.rand() < self.mutation_rate:\n",
    "            mutate_indices = np.random.choice(len(individual), size=2, replace=False)\n",
    "            individual[mutate_indices[0]], individual[mutate_indices[1]] = individual[mutate_indices[1]], individual[mutate_indices[0]]\n",
    "\n",
    "    def evolve_population(self):\n",
    "        new_population = []\n",
    "        parents = self.select_parents()\n",
    "        for parent1, parent2 in parents:\n",
    "            child1, child2 = self.crossover(self.population[parent1], self.population[parent2])\n",
    "            self.mutate(child1)\n",
    "            self.mutate(child2)\n",
    "            new_population.extend([child1, child2])\n",
    "        self.population = new_population[:self.population_size]\n",
    "\n",
    "    def solve(self):\n",
    "        self.initialize_population()\n",
    "        best_cost = float('inf')\n",
    "        best_routes = None\n",
    "        for generation in range(self.num_generations):\n",
    "            self.evolve_population()\n",
    "            current_best_individual = min(self.population, key=self.evaluate_individual)\n",
    "            current_best_cost = self.evaluate_individual(current_best_individual)\n",
    "            print(f\"Generation {generation+1}, Best Cost: {current_best_cost}\")\n",
    "            if current_best_cost < best_cost:\n",
    "                best_cost = current_best_cost\n",
    "                best_routes = current_best_individual\n",
    "        return best_cost, best_routes\n"
   ]
  },
  {
   "cell_type": "markdown",
   "id": "b241f124-77e2-439c-889c-dd448d1ebc01",
   "metadata": {},
   "source": [
    "## **4. Genetic Algorithm Execution**"
   ]
  },
  {
   "cell_type": "code",
   "execution_count": null,
   "id": "190f184e-2c08-45db-b28d-f9f840982805",
   "metadata": {},
   "outputs": [],
   "source": [
    "# Solve the problem\n",
    "genetic_alg = GeneticAlgorithm(\n",
    "    num_customers=len(demands) - 1,\n",
    "    num_vehicles=num_vehicles,\n",
    "    capacity=vehicle_capacity,\n",
    "    distance_matrix=distance_matrix,\n",
    "    demands=demands\n",
    ")\n",
    "\n",
    "best_cost, best_routes = genetic_alg.solve()\n",
    "\n",
    "if best_routes is not None:\n",
    "    print(\"Best Cost:\", best_cost)\n",
    "    print(\"Best Routes:\")\n",
    "    for i, route in enumerate(best_routes):\n",
    "        print(\"Vehicle\", i+1, \":\", route)\n",
    "else:\n",
    "    print(\"No feasible solution found within the specified number of generations.\")\n"
   ]
  },
  {
   "cell_type": "markdown",
   "id": "258988f4-1360-4568-bf21-af7a016d868b",
   "metadata": {},
   "source": [
    "## **5. Optimal Route Visualization**"
   ]
  },
  {
   "cell_type": "code",
   "execution_count": null,
   "id": "318f5f26-a5ea-4475-897d-97b4dc98192e",
   "metadata": {},
   "outputs": [],
   "source": []
  },
  {
   "cell_type": "markdown",
   "id": "3c899783-a53f-4284-8802-57f1a64a2db8",
   "metadata": {},
   "source": [
    "## **6. Results Analysis**"
   ]
  },
  {
   "cell_type": "code",
   "execution_count": null,
   "id": "0c767ff8-b5be-474f-b6d9-84e85f24c437",
   "metadata": {},
   "outputs": [],
   "source": []
  }
 ],
 "metadata": {
  "kernelspec": {
   "display_name": "muo env",
   "language": "python",
   "name": "muo_env"
  },
  "language_info": {
   "codemirror_mode": {
    "name": "ipython",
    "version": 3
   },
   "file_extension": ".py",
   "mimetype": "text/x-python",
   "name": "python",
   "nbconvert_exporter": "python",
   "pygments_lexer": "ipython3",
   "version": "3.11.7"
  }
 },
 "nbformat": 4,
 "nbformat_minor": 5
}
