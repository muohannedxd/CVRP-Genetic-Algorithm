{
 "cells": [
  {
   "cell_type": "markdown",
   "id": "aa9c12a2-3575-49a7-98fe-5bc3efeae703",
   "metadata": {},
   "source": [
    "## 1) General Mathematical Formulation of the Problem"
   ]
  },
  {
   "cell_type": "code",
   "execution_count": null,
   "id": "5fcaa031-86d8-4415-84d0-d888364fc505",
   "metadata": {},
   "outputs": [],
   "source": [
    "# import needed library\n",
    "from wand.image import Image as WImage\n",
    "\n",
    "# get the pdfs splitted\n",
    "first = WImage(filename='formulation/1.pdf')\n",
    "second = WImage(filename='formulation/2.pdf')\n",
    "third = WImage(filename='formulation/3.pdf')\n",
    "\n",
    "# display the pdfs\n",
    "display(first)\n",
    "display(second)\n",
    "display(third)"
   ]
  },
  {
   "cell_type": "markdown",
   "id": "705431f6-903d-4e6c-b303-8a4090c5a95c",
   "metadata": {},
   "source": [
    "## 2) Complexity of the Problem"
   ]
  },
  {
   "cell_type": "markdown",
   "id": "de6a66fe-2f22-4e84-afd3-a48a78a1a445",
   "metadata": {},
   "source": [
    "The Capacitated Vehicles Routes is a **NP-Hard** problem. Why?\n",
    "\n",
    "1. **Combinatorial Explosion:** The number of possible routes grows exponentially with the number of customers and vehicles, making it impractical to solve by brute force as the problem size increases.\n",
    "   \n",
    "3. **Generalization of TSP:** The Traveling Salesman Problem (TSP) is a well-known NP-hard problem. CVRP is a more complex version of TSP because it involves multiple vehicles and capacity constraints. Since TSP can be reduced to CVRP, CVRP is at least as hard as TSP."
   ]
  },
  {
   "cell_type": "markdown",
   "id": "a0c791bd-b3bf-4223-a2ba-526e861220d3",
   "metadata": {},
   "source": [
    "## 3) Problem Model"
   ]
  },
  {
   "cell_type": "code",
   "execution_count": null,
   "id": "0720f5ff-1f98-44d0-95a9-70bce024eae2",
   "metadata": {},
   "outputs": [],
   "source": [
    "import numpy as np\n",
    "import pandas as pd\n",
    "import networkx as nx\n",
    "import matplotlib.pyplot as plt\n",
    "import random"
   ]
  },
  {
   "cell_type": "code",
   "execution_count": null,
   "id": "5277e474-6612-4722-a17f-64415097f135",
   "metadata": {},
   "outputs": [],
   "source": [
    "# customers\n",
    "num_customers = 11  # 10 customers and one depot\n",
    "customer_demands = [0, 5, 20, 10, 20, 85, 65, 30, 20, 70, 30]"
   ]
  },
  {
   "cell_type": "code",
   "execution_count": null,
   "id": "fede72cd-d31c-4eff-83d3-1cdc4a9c3d53",
   "metadata": {},
   "outputs": [],
   "source": [
    "# vehicles\n",
    "num_vehicles = 6\n",
    "vehicle_capacity = 100"
   ]
  },
  {
   "cell_type": "code",
   "execution_count": null,
   "id": "756d6694-b1fc-46cb-8062-6e0b856ef30c",
   "metadata": {},
   "outputs": [],
   "source": [
    "# Routes costs\n",
    "distance_matrix = [\n",
    "    [0, 13, 6, 55, 93, 164, 166, 168, 169, 241, 212],\n",
    "    [13, 0, 11, 66, 261, 175, 177, 179, 180, 239, 208],\n",
    "    [6, 11, 0, 60, 97, 168, 171, 173, 174, 239, 209],\n",
    "    [55, 66, 60, 0, 82, 113, 115, 117, 117, 295, 265],\n",
    "    [93, 261, 97, 82, 0, 113, 115, 117, 118, 333, 302],\n",
    "    [164, 175, 168, 113, 113, 0, 6, 7, 2, 403, 374],\n",
    "    [166, 177, 171, 115, 115, 6, 0, 8, 7, 406, 376],\n",
    "    [168, 179, 173, 117, 117, 4, 8, 0, 3, 408, 378 ],\n",
    "    [169, 180, 174, 117, 118, 3, 7, 3, 0, 409, 379],\n",
    "    [241, 239, 239, 295, 333, 403, 406, 408, 409, 0, 46],\n",
    "    [212, 208, 209, 265, 302, 374, 376, 378, 379, 46, 0]\n",
    "]\n",
    "\n",
    "distances = pd.DataFrame(distance_matrix, index=range(1, 12), columns=range(1, 12))\n",
    "distances"
   ]
  },
  {
   "cell_type": "code",
   "execution_count": null,
   "id": "7fdb4525-6f69-4177-9f0f-da88e6722d91",
   "metadata": {},
   "outputs": [],
   "source": [
    "# initialize the graph\n",
    "G = nx.Graph()\n",
    "\n",
    "# add nodes\n",
    "for i in range(1, 12):\n",
    "    G.add_node(i)\n",
    "\n",
    "# add edges\n",
    "for i in range(1, 12):\n",
    "    for j in range(i + 1, 12):\n",
    "        if distance_matrix[i-1][j-1] != 0:\n",
    "            G.add_edge(i, j, weight=distance_matrix[i-1][j-1])\n",
    "\n",
    "# draw the graph\n",
    "plt.figure(figsize=[16, 10])\n",
    "pos = nx.spring_layout(G)\n",
    "nx.draw(G, pos, with_labels=True, node_size=500, node_color='skyblue', font_size=10, font_weight='bold')\n",
    "labels = nx.get_edge_attributes(G, 'weight')\n",
    "nx.draw_networkx_edge_labels(G, pos, edge_labels=labels, font_size=8)\n",
    "plt.title('Customer Graph with Distances')\n",
    "plt.show()"
   ]
  },
  {
   "cell_type": "markdown",
   "id": "e149d7f9-e496-46c4-89e0-23b8c0e35bc4",
   "metadata": {},
   "source": [
    "## 4) Solving the Problem using Genetic Algorithm"
   ]
  },
  {
   "cell_type": "markdown",
   "id": "5024de02-3694-4612-9e3c-6c114d725ba1",
   "metadata": {},
   "source": [
    "### **1. Genetic Algorithm**"
   ]
  },
  {
   "cell_type": "code",
   "execution_count": null,
   "id": "cc3722c1-0cd7-4d6d-9da0-9f0e02a8a822",
   "metadata": {},
   "outputs": [],
   "source": [
    "# Genetic Algorithm class\n",
    "\n",
    "class GeneticAlgorithm:\n",
    "    \n",
    "    def __init__(self, num_customers, vehicle_capacity, distance_matrix, customer_demands):\n",
    "        self.num_customers = num_customers\n",
    "        self.vehicle_capacity = vehicle_capacity\n",
    "        self.distance_matrix = distance_matrix\n",
    "        self.customer_demands = customer_demands\n",
    "\n",
    "    def initialize_population(self):\n",
    "        population = []\n",
    "        remaining_customers = list(range(2, self.num_customers + 1))\n",
    "        random.shuffle(remaining_customers)\n",
    "        while remaining_customers:\n",
    "            route = [1]  # Start at depot\n",
    "            load = 0\n",
    "            while remaining_customers:\n",
    "                next_customer = remaining_customers[-1]\n",
    "                if load + self.customer_demands[next_customer - 1] <= self.vehicle_capacity:\n",
    "                    route.append(next_customer)\n",
    "                    load += self.customer_demands[next_customer - 1]\n",
    "                    remaining_customers.pop()\n",
    "                else:\n",
    "                    break\n",
    "            route.append(1)  # End at depot\n",
    "            population.append(route)\n",
    "        return population\n",
    "\n",
    "    def evaluate_route(self, route):\n",
    "        cost = 0\n",
    "        load = 0\n",
    "        for i in range(len(route) - 1):\n",
    "            from_node, to_node = route[i], route[i+1]\n",
    "            cost += self.distance_matrix[from_node - 1][to_node - 1]\n",
    "            load += self.customer_demands[to_node - 1]\n",
    "            if load > self.vehicle_capacity:\n",
    "                cost += 1000\n",
    "                load = 0\n",
    "        return cost\n",
    "\n",
    "    # reverse mutation\n",
    "    def mutate_route(self, route):\n",
    "        mutated_route = route[:]\n",
    "        idx_range = range(1, len(mutated_route) - 1)\n",
    "        if len(idx_range) < 2:\n",
    "            return mutated_route  # no mutation possible\n",
    "        idx1, idx2 = random.sample(idx_range, 2) # exclude depot index\n",
    "        \n",
    "        # ensure that idx2 is greater than idx1\n",
    "        if idx1 > idx2:\n",
    "            idx1, idx2 = idx2, idx1\n",
    "        \n",
    "        # reverse the sub-route between idx1 and idx2\n",
    "        mutated_route = route[:idx1] + list(reversed(route[idx1:idx2+1])) + route[idx2+1:]\n",
    "        \n",
    "        # check capacity constraint\n",
    "        current_demand = sum(self.customer_demands[customer - 1] for customer in mutated_route[1:-1])\n",
    "        if current_demand > self.vehicle_capacity:\n",
    "            return route  # Revert mutation\n",
    "        return mutated_route\n",
    "\n",
    "    # order crossover (OX)\n",
    "    def crossover(self, parent1, parent2):\n",
    "        # select two random crossover points\n",
    "        size = len(parent1)\n",
    "        idx1, idx2 = sorted(random.sample(range(size), 2))\n",
    "\n",
    "        # copy the middle segment from parent1 to the child\n",
    "        middle_segment = parent1[idx1:idx2]\n",
    "        child = [-1] * size\n",
    "        child[idx1:idx2] = middle_segment\n",
    "\n",
    "        # fill in the rest of the child with the remaining genes from parent2\n",
    "        remaining_genes = [gene for gene in parent2 if gene not in middle_segment]\n",
    "        j = idx2\n",
    "        for gene in remaining_genes:\n",
    "            if child[j % size] == -1:\n",
    "                child[j % size] = gene\n",
    "                j += 1\n",
    "\n",
    "        return child\n",
    "\n",
    "    def genetic_algorithm(self, population, generations):\n",
    "        best_routes = []\n",
    "        best_costs = []\n",
    "\n",
    "        for gen in range(generations):\n",
    "            new_population = []\n",
    "\n",
    "            # mutation\n",
    "            for routes in population:\n",
    "                new_routes = []\n",
    "                for route in routes:\n",
    "                    new_route = self.mutate_route(route)\n",
    "                    new_routes.append(new_route)\n",
    "                new_population.append(new_routes)\n",
    "    \n",
    "            population = new_population\n",
    "\n",
    "            # crossover\n",
    "            for i in range(0, len(population), 2):\n",
    "                if i + 1 < len(population):\n",
    "                    parent1 = population[i]\n",
    "                    parent2 = population[i + 1]\n",
    "                    child1 = self.crossover(parent1, parent2)\n",
    "                    child2 = self.crossover(parent2, parent1)\n",
    "                    population[i] = child1\n",
    "                    population[i + 1] = child2\n",
    "    \n",
    "            # evaluate population\n",
    "            all_routes = [route for routes in population for route in routes]\n",
    "            all_costs = [self.evaluate_route(route) for route in all_routes]\n",
    "    \n",
    "            # selection (finding the best route for each vehicle)\n",
    "            generation_best_routes = []\n",
    "            generation_best_costs = []\n",
    "            for i in range(num_vehicles):\n",
    "                routes_for_vehicle = all_routes[i::num_vehicles]\n",
    "                costs_for_vehicle = all_costs[i::num_vehicles]\n",
    "                if costs_for_vehicle:\n",
    "                    best_route_idx = np.argmin(costs_for_vehicle)\n",
    "                    best_route = routes_for_vehicle[best_route_idx]\n",
    "                    best_cost = costs_for_vehicle[best_route_idx]\n",
    "                    generation_best_routes.append(best_route)\n",
    "                    generation_best_costs.append(best_cost)\n",
    "                else:\n",
    "                    generation_best_routes.append([])\n",
    "                    generation_best_costs.append(0)\n",
    "    \n",
    "            best_routes.append(generation_best_routes)\n",
    "            best_costs.append(generation_best_costs)\n",
    "    \n",
    "        # select the overall best routes and costs\n",
    "        overall_best_routes = [min(routes, key=self.evaluate_route) for routes in zip(*best_routes)]\n",
    "        overall_best_costs = [self.evaluate_route(route) for route in overall_best_routes]\n",
    "    \n",
    "        return overall_best_routes, overall_best_costs\n"
   ]
  },
  {
   "cell_type": "markdown",
   "id": "b241f124-77e2-439c-889c-dd448d1ebc01",
   "metadata": {},
   "source": [
    "### **2. Genetic Algorithm Execution**"
   ]
  },
  {
   "cell_type": "code",
   "execution_count": null,
   "id": "190f184e-2c08-45db-b28d-f9f840982805",
   "metadata": {},
   "outputs": [],
   "source": [
    "# main\n",
    "if __name__ == \"__main__\":\n",
    "    \n",
    "    # Assuming num_customers, vehicle_capacity, distance_matrix, and customer_demands are defined\n",
    "    \n",
    "    # an instance of the genetic algorithm class\n",
    "    ga = GeneticAlgorithm(num_customers, vehicle_capacity, distance_matrix, customer_demands)\n",
    "    \n",
    "    # initialize population\n",
    "    population = ga.initialize_population()\n",
    "    best_routes, best_costs = ga.genetic_algorithm([population], generations=1000)\n",
    "\n",
    "    # print best routes and load\n",
    "    for i in range(len(best_routes)):\n",
    "        route = best_routes[i]\n",
    "        load = sum(customer_demands[node - 1] for node in route[1:-1])  # Excluding depot nodes\n",
    "        print(f\"\\nVehicle {i+1}:\\n  Load = {load}\\n  Route = {route}\\n  Best Cost = {best_costs[i]}\")\n",
    "\n",
    "    # print total cost\n",
    "    print(f'\\nTotal Cost is: {sum(best_costs)}')"
   ]
  },
  {
   "cell_type": "markdown",
   "id": "258988f4-1360-4568-bf21-af7a016d868b",
   "metadata": {},
   "source": [
    "### **3. Optimal Routes Visualization**"
   ]
  },
  {
   "cell_type": "code",
   "execution_count": null,
   "id": "318f5f26-a5ea-4475-897d-97b4dc98192e",
   "metadata": {},
   "outputs": [],
   "source": [
    "# plot the routes\n",
    "def visualize_routes(best_routes, distance_matrix):\n",
    "    # Plotting the nodes\n",
    "    plt.figure(figsize=(18, 8))\n",
    "    for i in range(len(distance_matrix)):\n",
    "        if i == 0:\n",
    "            plt.plot(distance_matrix[i][0], distance_matrix[i][1], 'o', markersize=10, label='Depot')\n",
    "        else:\n",
    "            plt.plot(distance_matrix[i][0], distance_matrix[i][1], 'o', markersize=10, label=f'Customer {i}')\n",
    "\n",
    "    # Plotting the routes\n",
    "    for i, route in enumerate(best_routes):\n",
    "        if route:\n",
    "            route_x = [distance_matrix[node - 1][0] for node in route]  # Adjust indexing\n",
    "            route_y = [distance_matrix[node - 1][1] for node in route]  # Adjust indexing\n",
    "            plt.plot(route_x, route_y, linestyle='-', linewidth=2, label=f'Vehicle {i+1} Route')\n",
    "\n",
    "    plt.xlabel('X Coordinate')\n",
    "    plt.ylabel('Y Coordinate')\n",
    "    plt.title('Visualization of Best Routes')\n",
    "    plt.legend()\n",
    "    plt.grid(True)\n",
    "    plt.show()\n",
    "\n",
    "# Call the function to visualize the routes\n",
    "visualize_routes(best_routes, distance_matrix)\n"
   ]
  },
  {
   "cell_type": "markdown",
   "id": "3c899783-a53f-4284-8802-57f1a64a2db8",
   "metadata": {},
   "source": [
    "## 5) Results Analysis"
   ]
  },
  {
   "cell_type": "markdown",
   "id": "bf9303b6-934e-4fcc-ac68-23ca34474bac",
   "metadata": {},
   "source": [
    "The solution of this $NP-Hard$ problem with $Genetic Algorithms$ is not necessarily the optimal one.\n",
    "elaborate..."
   ]
  },
  {
   "cell_type": "code",
   "execution_count": null,
   "id": "9ab48f0c-1b80-4943-ae5b-d444fa239543",
   "metadata": {},
   "outputs": [],
   "source": []
  }
 ],
 "metadata": {
  "kernelspec": {
   "display_name": "muo env",
   "language": "python",
   "name": "muo_env"
  },
  "language_info": {
   "codemirror_mode": {
    "name": "ipython",
    "version": 3
   },
   "file_extension": ".py",
   "mimetype": "text/x-python",
   "name": "python",
   "nbconvert_exporter": "python",
   "pygments_lexer": "ipython3",
   "version": "3.11.7"
  }
 },
 "nbformat": 4,
 "nbformat_minor": 5
}
