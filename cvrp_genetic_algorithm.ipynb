{
 "cells": [
  {
   "cell_type": "code",
   "execution_count": null,
   "id": "f07b26ba-cc88-4b68-97aa-8f566c4824c2",
   "metadata": {},
   "outputs": [],
   "source": [
    "import numpy as np\n",
    "import pandas as pd\n",
    "import networkx as nx\n",
    "import matplotlib.pyplot as plt"
   ]
  },
  {
   "cell_type": "markdown",
   "id": "45a292f3-bf08-4286-9b60-a2b9f95eee9f",
   "metadata": {},
   "source": [
    "## **1. Data Definition**"
   ]
  },
  {
   "cell_type": "markdown",
   "id": "010f76dc-c933-4e5b-a01c-2ba53109f9e8",
   "metadata": {},
   "source": [
    "### Customers Data"
   ]
  },
  {
   "cell_type": "code",
   "execution_count": null,
   "id": "bab450aa-7194-4651-919e-41703b8a115a",
   "metadata": {},
   "outputs": [],
   "source": [
    "demands = [0, 0, 5, 20, 10, 20, 85, 65, 30, 20, 70, 30, 0]"
   ]
  },
  {
   "cell_type": "markdown",
   "id": "03033f74-190d-480b-bde1-e02304a2b526",
   "metadata": {},
   "source": [
    "### Vehicles Data"
   ]
  },
  {
   "cell_type": "code",
   "execution_count": null,
   "id": "236015da-d99f-4fb4-a0c5-32f1e765187e",
   "metadata": {},
   "outputs": [],
   "source": [
    "num_vehicles = 6\n",
    "vehicle_capacity = 100"
   ]
  },
  {
   "cell_type": "markdown",
   "id": "566a7800-cf9a-4f27-be6e-87d16933551d",
   "metadata": {},
   "source": [
    "### Routes Costs"
   ]
  },
  {
   "cell_type": "code",
   "execution_count": null,
   "id": "480399e8-ac1c-4868-bb16-75f917122ffb",
   "metadata": {},
   "outputs": [],
   "source": [
    "# Updated distance matrix\n",
    "# Routes costs (updated distance matrix)\n",
    "distance_matrix = np.array([\n",
    "    [0, 0, 0, 0, 0, 0, 0, 0, 0, 0, 0, 0, 0],  # Distances from depot 0 to all nodes (including depot 0 and 12)\n",
    "    [0, 13, 6, 55, 93, 164, 166, 168, 169, 231, 212, 0, 0],  # Distances from depot 0 to customers\n",
    "    [0, 13, 0, 11, 66, 261, 175, 177, 179, 180, 239, 208, 0],  # Distances from customer 1 to other customers\n",
    "    [0, 6, 11, 0, 60, 97, 168, 171, 173, 174, 239, 209, 0],  # Distances from customer 2 to other customers\n",
    "    [0, 55, 66, 60, 0, 82, 113, 115, 117, 117, 295, 265, 0],  # Distances from customer 3 to other customers\n",
    "    [0, 93, 261, 97, 82, 0, 113, 115, 117, 118, 333, 302, 0],  # Distances from customer 4 to other customers\n",
    "    [0, 164, 175, 168, 113, 113, 0, 6, 7, 2, 403, 374, 0],  # Distances from customer 5 to other customers\n",
    "    [0, 166, 177, 171, 115, 115, 6, 0, 8, 7, 406, 376, 0],  # Distances from customer 6 to other customers\n",
    "    [0, 168, 179, 173, 117, 117, 7, 8, 0, 3, 408, 378, 0],  # Distances from customer 7 to other customers\n",
    "    [0, 169, 180, 174, 117, 118, 2, 7, 3, 0, 409, 379, 0],  # Distances from customer 8 to other customers\n",
    "    [0, 231, 239, 239, 295, 333, 403, 406, 408, 409, 0, 46, 0],  # Distances from customer 9 to other customers\n",
    "    [0, 212, 208, 209, 265, 302, 374, 376, 378, 379, 46, 0, 0],  # Distances from customer 10 to other customers\n",
    "    [0, 0, 0, 0, 0, 0, 0, 0, 0, 0, 0, 0, 0]  # Distances from depot 12 to all nodes (including depot 0 and 12)\n",
    "])\n",
    "\n",
    "distances = pd.DataFrame(distance_matrix, index=range(0, 13), columns=range(0, 13))\n",
    "distances"
   ]
  },
  {
   "cell_type": "markdown",
   "id": "a0c791bd-b3bf-4223-a2ba-526e861220d3",
   "metadata": {},
   "source": [
    "## **2. Graph**"
   ]
  },
  {
   "cell_type": "code",
   "execution_count": null,
   "id": "7fdb4525-6f69-4177-9f0f-da88e6722d91",
   "metadata": {},
   "outputs": [],
   "source": [
    "# initialize the graph\n",
    "G = nx.Graph()\n",
    "\n",
    "# Add nodes (customers and depots) to the graph\n",
    "for i in range(1, 12):\n",
    "    G.add_node(i)\n",
    "\n",
    "# Add edges (connections between nodes) to the graph\n",
    "for i in range(1, 12):\n",
    "    for j in range(i + 1, 12):\n",
    "        if distance_matrix[i, j] != np.inf:\n",
    "            G.add_edge(i, j, weight=distance_matrix[i, j])\n",
    "\n",
    "# Draw the graph\n",
    "pos = nx.spring_layout(G)  # Define node positions\n",
    "nx.draw(G, pos, with_labels=True, node_size=500, node_color='skyblue', font_size=10, font_weight='bold')  # Draw nodes\n",
    "labels = nx.get_edge_attributes(G, 'weight')\n",
    "nx.draw_networkx_edge_labels(G, pos, edge_labels=labels, font_size=5)  # Draw edge labels\n",
    "plt.title('Customer Graph with Distances')\n",
    "plt.show()"
   ]
  },
  {
   "cell_type": "markdown",
   "id": "5024de02-3694-4612-9e3c-6c114d725ba1",
   "metadata": {},
   "source": [
    "## **3. Genetic Algorithm**"
   ]
  },
  {
   "cell_type": "code",
   "execution_count": null,
   "id": "cc3722c1-0cd7-4d6d-9da0-9f0e02a8a822",
   "metadata": {},
   "outputs": [],
   "source": [
    "# Genetic Algorithm parameters\n",
    "population_size = 50\n",
    "num_generations = 100\n",
    "crossover_rate = 0.8\n",
    "mutation_rate = 0.2\n",
    "\n",
    "def fitness_function(routes):\n",
    "    total_cost = 0\n",
    "    unserved_demand = 0\n",
    "    \n",
    "    # Create a dictionary to keep track of the number of times each customer is visited\n",
    "    visit_count = {i: 0 for i in range(1, 12)}\n",
    "    \n",
    "    for route in routes:\n",
    "        for i in range(len(route) - 1):\n",
    "            total_cost += distance_matrix[route[i]][route[i + 1]]\n",
    "            \n",
    "            # Update the visit count for each customer in the route\n",
    "            if 0 < route[i] < 12:\n",
    "                visit_count[route[i]] += 1\n",
    "    \n",
    "    # Calculate the unserved demand penalty\n",
    "    for customer, demand in enumerate(demands[1:11], start=1):\n",
    "        if visit_count[customer] == 0:\n",
    "            unserved_demand += demand\n",
    "    \n",
    "    return total_cost + unserved_demand\n",
    "\n",
    "def generate_initial_population():\n",
    "    population = []\n",
    "    for _ in range(population_size):\n",
    "        routes = []\n",
    "        remaining_customers = list(range(1, 12))\n",
    "        for _ in range(num_vehicles):\n",
    "            route = [0]\n",
    "            capacity = vehicle_capacity\n",
    "            while capacity >= sum([demands[i] for i in remaining_customers]):\n",
    "                if not remaining_customers:\n",
    "                    break\n",
    "                next_customer = random.choice(remaining_customers)\n",
    "                if capacity >= demands[next_customer]:\n",
    "                    route.append(next_customer)\n",
    "                    remaining_customers.remove(next_customer)\n",
    "                    capacity -= demands[next_customer]\n",
    "            route.append(12)\n",
    "            routes.append(route)\n",
    "        population.append(routes)\n",
    "    return population\n",
    "\n",
    "'''\n",
    "def generate_initial_population():\n",
    "    population = []\n",
    "    for _ in range(population_size):\n",
    "        routes = []\n",
    "        remaining_customers = list(range(1, 12))\n",
    "        for _ in range(num_vehicles):\n",
    "            route = [0]\n",
    "            capacity = vehicle_capacity\n",
    "            while remaining_customers:\n",
    "                next_customer = random.choice(remaining_customers)\n",
    "                if capacity >= demands[next_customer]:\n",
    "                    route.append(next_customer)\n",
    "                    remaining_customers.remove(next_customer)\n",
    "                    capacity -= demands[next_customer]\n",
    "            route.append(12)\n",
    "            routes.append(route)\n",
    "        population.append(routes)\n",
    "    return population\n",
    "'''\n",
    "\n",
    "def crossover(parent1, parent2):\n",
    "    child1 = [route[:] for route in parent1]\n",
    "    child2 = [route[:] for route in parent2]\n",
    "    \n",
    "    for i in range(num_vehicles):\n",
    "        if random.random() < 0.5:\n",
    "            child1[i], child2[i] = child2[i], child1[i]\n",
    "    \n",
    "    return child1, child2\n",
    "\n",
    "def mutate(routes):\n",
    "    for i in range(num_vehicles):\n",
    "        if random.random() < 0.5:\n",
    "            route = routes[i]\n",
    "            if len(route) > 2:\n",
    "                pos1, pos2 = random.sample(range(1, len(route) - 1), 2)\n",
    "                route[pos1], route[pos2] = route[pos2], route[pos1]\n",
    "    return routes\n",
    "\n",
    "def genetic_algorithm():\n",
    "    population = generate_initial_population()\n",
    "    \n",
    "    for generation in range(num_generations):\n",
    "        new_population = []\n",
    "        \n",
    "        for _ in range(population_size // 2):\n",
    "            parent1 = random.choice(population)\n",
    "            parent2 = random.choice(population)\n",
    "            \n",
    "            if random.random() < crossover_rate:\n",
    "                child1, child2 = crossover(parent1, parent2)\n",
    "            else:\n",
    "                child1, child2 = parent1[:], parent2[:]\n",
    "            \n",
    "            if random.random() < mutation_rate:\n",
    "                child1 = mutate(child1)\n",
    "            if random.random() < mutation_rate:\n",
    "                child2 = mutate(child2)\n",
    "            \n",
    "            new_population.append(child1)\n",
    "            new_population.append(child2)\n",
    "        \n",
    "        population = new_population\n",
    "    \n",
    "    best_solution = min(population, key=fitness_function)\n",
    "    best_cost = fitness_function(best_solution)\n",
    "    \n",
    "    return best_solution, best_cost\n"
   ]
  },
  {
   "cell_type": "markdown",
   "id": "b241f124-77e2-439c-889c-dd448d1ebc01",
   "metadata": {},
   "source": [
    "## **4. Genetic Algorithm Execution**"
   ]
  },
  {
   "cell_type": "code",
   "execution_count": null,
   "id": "190f184e-2c08-45db-b28d-f9f840982805",
   "metadata": {},
   "outputs": [],
   "source": [
    "# Run the genetic algorithm\n",
    "best_routes, best_cost = genetic_algorithm()\n",
    "\n",
    "# Print the optimal routes and their cost\n",
    "print(\"Optimal Routes:\")\n",
    "for route in best_routes:\n",
    "    print(route)\n",
    "print(\"Total Cost:\", best_cost)"
   ]
  },
  {
   "cell_type": "markdown",
   "id": "258988f4-1360-4568-bf21-af7a016d868b",
   "metadata": {},
   "source": [
    "## **5. Optimal Route Visualization**"
   ]
  },
  {
   "cell_type": "code",
   "execution_count": null,
   "id": "318f5f26-a5ea-4475-897d-97b4dc98192e",
   "metadata": {},
   "outputs": [],
   "source": []
  },
  {
   "cell_type": "markdown",
   "id": "3c899783-a53f-4284-8802-57f1a64a2db8",
   "metadata": {},
   "source": [
    "## **6. Results Analysis**"
   ]
  },
  {
   "cell_type": "code",
   "execution_count": null,
   "id": "0c767ff8-b5be-474f-b6d9-84e85f24c437",
   "metadata": {},
   "outputs": [],
   "source": []
  }
 ],
 "metadata": {
  "kernelspec": {
   "display_name": "muo env",
   "language": "python",
   "name": "muo_env"
  },
  "language_info": {
   "codemirror_mode": {
    "name": "ipython",
    "version": 3
   },
   "file_extension": ".py",
   "mimetype": "text/x-python",
   "name": "python",
   "nbconvert_exporter": "python",
   "pygments_lexer": "ipython3",
   "version": "3.11.7"
  }
 },
 "nbformat": 4,
 "nbformat_minor": 5
}
