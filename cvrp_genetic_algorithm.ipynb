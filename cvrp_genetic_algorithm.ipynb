{
 "cells": [
  {
   "cell_type": "code",
   "execution_count": null,
   "id": "f07b26ba-cc88-4b68-97aa-8f566c4824c2",
   "metadata": {},
   "outputs": [],
   "source": [
    "import numpy as np\n",
    "import pandas as pd"
   ]
  },
  {
   "cell_type": "markdown",
   "id": "45a292f3-bf08-4286-9b60-a2b9f95eee9f",
   "metadata": {},
   "source": [
    "## **1. Data Definition**"
   ]
  },
  {
   "cell_type": "markdown",
   "id": "010f76dc-c933-4e5b-a01c-2ba53109f9e8",
   "metadata": {},
   "source": [
    "### Customers Data"
   ]
  },
  {
   "cell_type": "code",
   "execution_count": null,
   "id": "bab450aa-7194-4651-919e-41703b8a115a",
   "metadata": {},
   "outputs": [],
   "source": [
    "demands = [0, 5, 20, 10, 20, 85, 65, 30, 20, 70, 30]\n",
    "customer_data = pd.DataFrame({'customer': range(1, 12), 'd': demands})\n",
    "customer_data"
   ]
  },
  {
   "cell_type": "markdown",
   "id": "03033f74-190d-480b-bde1-e02304a2b526",
   "metadata": {},
   "source": [
    "### Vehicles Data"
   ]
  },
  {
   "cell_type": "code",
   "execution_count": null,
   "id": "236015da-d99f-4fb4-a0c5-32f1e765187e",
   "metadata": {},
   "outputs": [],
   "source": [
    "num_vehicles = 6\n",
    "vehicle_capacity = 100"
   ]
  },
  {
   "cell_type": "markdown",
   "id": "566a7800-cf9a-4f27-be6e-87d16933551d",
   "metadata": {},
   "source": [
    "### Routes Costs"
   ]
  },
  {
   "cell_type": "code",
   "execution_count": null,
   "id": "480399e8-ac1c-4868-bb16-75f917122ffb",
   "metadata": {},
   "outputs": [],
   "source": [
    "distance_matrix = np.array([\n",
    "    [0, 13, 6, 55, 93, 164, 166, 168, 169, 231, 212],\n",
    "    [13, 0, 11, 66, 261, 175, 177, 179, 180, 239, 208],\n",
    "    [6, 11, 0, 60, 97, 168, 171, 173, 174, 239, 209],\n",
    "    [55, 66, 60, 0, 82, 113, 115, 117, 117, 295, 265],\n",
    "    [93, 261, 97, 82, 0, 113, 115, 117, 118, 333, 302],\n",
    "    [164, 175, 168, 113, 113, 0, 6, 7, 2, 403, 374],\n",
    "    [166, 177, 171, 115, 115, 6, 0, 8, 7, 406, 376],\n",
    "    [168, 179, 173, 117, 117, 7, 8, 0, 3, 408, 378],\n",
    "    [169, 180, 174, 117, 118, 2, 7, 3, 0, 409, 379],\n",
    "    [231, 239, 239, 295, 333, 403, 406, 408, 409, 0, 46],\n",
    "    [212, 208, 209, 265, 302, 374, 376, 378, 379, 46, 0]\n",
    "])\n",
    "\n",
    "distances = pd.DataFrame(distance_matrix, index=range(1, 12), columns=range(1, 12))\n",
    "distances"
   ]
  },
  {
   "cell_type": "markdown",
   "id": "a0c791bd-b3bf-4223-a2ba-526e861220d3",
   "metadata": {},
   "source": [
    "## **2. Graph**"
   ]
  },
  {
   "cell_type": "code",
   "execution_count": null,
   "id": "7fdb4525-6f69-4177-9f0f-da88e6722d91",
   "metadata": {},
   "outputs": [],
   "source": []
  },
  {
   "cell_type": "markdown",
   "id": "5024de02-3694-4612-9e3c-6c114d725ba1",
   "metadata": {},
   "source": [
    "## **3. Genetic Algorithm**"
   ]
  },
  {
   "cell_type": "code",
   "execution_count": null,
   "id": "cc3722c1-0cd7-4d6d-9da0-9f0e02a8a822",
   "metadata": {},
   "outputs": [],
   "source": []
  },
  {
   "cell_type": "markdown",
   "id": "0421b9c9-b98c-4939-905e-b22ace580b12",
   "metadata": {},
   "source": [
    "## **4. Problem Representation**"
   ]
  },
  {
   "cell_type": "code",
   "execution_count": null,
   "id": "effef1d8-3d7f-4b85-a6d3-b20e69bf5f4e",
   "metadata": {},
   "outputs": [],
   "source": []
  },
  {
   "cell_type": "markdown",
   "id": "2d3f0a90-cfab-4cee-9cfa-ce7a15205fcf",
   "metadata": {},
   "source": [
    "## **5. Fitness Function**"
   ]
  },
  {
   "cell_type": "code",
   "execution_count": null,
   "id": "3ed25a37-e55e-4728-ad5a-fc3760fe10f1",
   "metadata": {},
   "outputs": [],
   "source": []
  },
  {
   "cell_type": "markdown",
   "id": "b241f124-77e2-439c-889c-dd448d1ebc01",
   "metadata": {},
   "source": [
    "## **6. Genetic Algorithm Execution**"
   ]
  },
  {
   "cell_type": "code",
   "execution_count": null,
   "id": "190f184e-2c08-45db-b28d-f9f840982805",
   "metadata": {},
   "outputs": [],
   "source": []
  },
  {
   "cell_type": "markdown",
   "id": "258988f4-1360-4568-bf21-af7a016d868b",
   "metadata": {},
   "source": [
    "## **7. Route Visualization**"
   ]
  },
  {
   "cell_type": "code",
   "execution_count": null,
   "id": "318f5f26-a5ea-4475-897d-97b4dc98192e",
   "metadata": {},
   "outputs": [],
   "source": []
  },
  {
   "cell_type": "markdown",
   "id": "3c899783-a53f-4284-8802-57f1a64a2db8",
   "metadata": {},
   "source": [
    "## **8. Results Analysis**"
   ]
  },
  {
   "cell_type": "code",
   "execution_count": null,
   "id": "0c767ff8-b5be-474f-b6d9-84e85f24c437",
   "metadata": {},
   "outputs": [],
   "source": []
  }
 ],
 "metadata": {
  "kernelspec": {
   "display_name": "muo env",
   "language": "python",
   "name": "muo_env"
  },
  "language_info": {
   "codemirror_mode": {
    "name": "ipython",
    "version": 3
   },
   "file_extension": ".py",
   "mimetype": "text/x-python",
   "name": "python",
   "nbconvert_exporter": "python",
   "pygments_lexer": "ipython3",
   "version": "3.11.7"
  }
 },
 "nbformat": 4,
 "nbformat_minor": 5
}
